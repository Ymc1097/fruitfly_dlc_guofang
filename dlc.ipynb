{
 "cells": [
  {
   "cell_type": "code",
   "execution_count": null,
   "id": "ba410bf2-58a4-41b5-a547-fff8c5c2b497",
   "metadata": {},
   "outputs": [],
   "source": [
    "import deeplabcut"
   ]
  },
  {
   "cell_type": "code",
   "execution_count": null,
   "id": "85ba4493-cab3-48b0-91e8-c6c9ee772724",
   "metadata": {},
   "outputs": [],
   "source": [
    "config_path = './fruitfly1-ymc-2024-07-06/config.yaml'"
   ]
  },
  {
   "cell_type": "code",
   "execution_count": null,
   "id": "b7ed71ea-143f-477b-8564-7f44e9c36f51",
   "metadata": {},
   "outputs": [],
   "source": [
    "deeplabcut.convertcsv2h5(config_path, scorer='ymc')"
   ]
  },
  {
   "cell_type": "code",
   "execution_count": null,
   "id": "9f2a27a3-234a-4c68-8cac-671d3cb0e9c8",
   "metadata": {},
   "outputs": [],
   "source": [
    "deeplabcut.create_training_dataset(config_path)"
   ]
  },
  {
   "cell_type": "code",
   "execution_count": null,
   "id": "6d9be040-5ff2-4e3e-a826-b3f5a1c39094",
   "metadata": {},
   "outputs": [],
   "source": [
    "deeplabcut.train_network(config_path)"
   ]
  }
 ],
 "metadata": {
  "kernelspec": {
   "display_name": "DEEPLABCUT",
   "language": "python",
   "name": "deeplabcut"
  },
  "language_info": {
   "codemirror_mode": {
    "name": "ipython",
    "version": 3
   },
   "file_extension": ".py",
   "mimetype": "text/x-python",
   "name": "python",
   "nbconvert_exporter": "python",
   "pygments_lexer": "ipython3",
   "version": "3.10.14"
  }
 },
 "nbformat": 4,
 "nbformat_minor": 5
}
