{
 "cells": [
  {
   "cell_type": "code",
   "execution_count": 5,
   "metadata": {},
   "outputs": [],
   "source": [
    "import glob\n",
    "import os\n",
    "import re\n",
    "import cv2\n",
    "import json\n",
    "import csv"
   ]
  },
  {
   "cell_type": "code",
   "execution_count": 6,
   "metadata": {},
   "outputs": [],
   "source": [
    "def sorted_alphanumeric(data):\n",
    "    convert = lambda text: int(text) if text.isdigit() else text.lower()\n",
    "    alphanum_key = lambda key: [convert(c) for c in re.split('([0-9]+)', key)]\n",
    "    return sorted(data, key=alphanum_key)"
   ]
  },
  {
   "cell_type": "code",
   "execution_count": 13,
   "metadata": {},
   "outputs": [],
   "source": [
    "scorer = 'ymc'\n",
    "body_parts = ['leg1', 'leg2', 'leg3', 'leg4', 'leg5', 'leg6', 'head', 'tail', 'prob']\n",
    "folder_path = 'label/1'\n",
    "video_name = 'video1'"
   ]
  },
  {
   "cell_type": "code",
   "execution_count": 14,
   "metadata": {},
   "outputs": [],
   "source": [
    "data_folder = os.path.join('labeled-data', video_name)\n",
    "os.makedirs(data_folder)\n",
    "csv_path = os.path.join(data_folder, f'CollectedData_{scorer}.csv')\n",
    "\n",
    "video_folder = 'videos'\n",
    "if not os.path.exists(video_folder):\n",
    "    os.makedirs(video_folder)\n",
    "fourcc = cv2.VideoWriter_fourcc(*'XVID')\n",
    "example_img = cv2.imread(glob.glob(os.path.join(folder_path, '*.jpg'))[0])\n",
    "h, w = example_img.shape[:2]\n",
    "video_writer = cv2.VideoWriter(f'{os.path.join(video_folder, video_name)}.avi', fourcc, 30, (w, h))\n",
    "\n",
    "with open(csv_path, 'w+', newline='') as f:\n",
    "    csv_writer = csv.writer(f)\n",
    "    num_kpts = len(body_parts)\n",
    "    csv_writer.writerow(['scorer'] + [scorer] * 2 * num_kpts)\n",
    "    csv_writer.writerow(['bodyparts'] + [body_parts[i//2] for i in range(2 * num_kpts)])\n",
    "    csv_writer.writerow(['coords'] + ['x', 'y'] * num_kpts)\n",
    "\n",
    "    img_paths = sorted_alphanumeric(glob.glob(os.path.join(folder_path, '*.jpg')))\n",
    "    json_paths = sorted_alphanumeric(glob.glob(os.path.join(folder_path, '*.json')))\n",
    "    num_imgs = len(img_paths)\n",
    "\n",
    "    for i in range(num_imgs):\n",
    "        data = json.load(open(json_paths[i], 'r'))['shapes']\n",
    "        row = ['', ''] * num_kpts\n",
    "        for kpt in data:\n",
    "            kpt_idx = int(kpt['label'])\n",
    "            kpt_coord = kpt['points']\n",
    "            row[2*(kpt_idx-1) : 2*kpt_idx] = kpt_coord[0]\n",
    "\n",
    "        new_img_path = os.path.join(data_folder, f'{i+1}.jpg')\n",
    "        row = [new_img_path] + row\n",
    "        csv_writer.writerow(row)\n",
    "\n",
    "        img = cv2.imread(img_paths[i])\n",
    "        cv2.imwrite(new_img_path, img)\n",
    "        video_writer.write(img)\n",
    "\n",
    "video_writer.release()"
   ]
  }
 ],
 "metadata": {
  "kernelspec": {
   "display_name": "base",
   "language": "python",
   "name": "python3"
  },
  "language_info": {
   "codemirror_mode": {
    "name": "ipython",
    "version": 3
   },
   "file_extension": ".py",
   "mimetype": "text/x-python",
   "name": "python",
   "nbconvert_exporter": "python",
   "pygments_lexer": "ipython3",
   "version": "3.9.13"
  },
  "orig_nbformat": 4
 },
 "nbformat": 4,
 "nbformat_minor": 2
}
